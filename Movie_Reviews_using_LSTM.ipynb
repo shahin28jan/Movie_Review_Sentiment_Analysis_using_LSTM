{
  "cells": [
    {
      "cell_type": "markdown",
      "metadata": {
        "id": "OWsXJGBeXaBE"
      },
      "source": [
        "Loading Dataset from kaggle"
      ]
    },
    {
      "cell_type": "code",
      "execution_count": 2,
      "metadata": {
        "id": "ukfZ57DMWxc6"
      },
      "outputs": [],
      "source": [
        "!mkdir -p ~/ .kaggle\n",
        "!cp kaggle.json ~/.kaggle/\n"
      ]
    },
    {
      "cell_type": "code",
      "execution_count": 3,
      "metadata": {
        "colab": {
          "base_uri": "https://localhost:8080/"
        },
        "id": "KjcarK1zVrw9",
        "outputId": "8f76ae38-39d4-49e6-ded7-8dba281329c8"
      },
      "outputs": [
        {
          "name": "stdout",
          "output_type": "stream",
          "text": [
            "Downloading imdb-dataset-of-50k-movie-reviews.zip to /content\n",
            "\r  0% 0.00/25.7M [00:00<?, ?B/s]\r 66% 17.0M/25.7M [00:00<00:00, 177MB/s]\n",
            "\r100% 25.7M/25.7M [00:00<00:00, 208MB/s]\n"
          ]
        }
      ],
      "source": [
        "!chmod 600 /root/.kaggle/kaggle.json\n",
        "!kaggle datasets download -d lakshmi25npathi/imdb-dataset-of-50k-movie-reviews"
      ]
    },
    {
      "cell_type": "markdown",
      "metadata": {
        "id": "ybo_L8T83Q5N"
      },
      "source": [
        "Importing Libraries"
      ]
    },
    {
      "cell_type": "code",
      "execution_count": 4,
      "metadata": {
        "id": "wvB37HELj4gy"
      },
      "outputs": [],
      "source": [
        "from keras.preprocessing.text import Tokenizer\n",
        "from keras.utils import pad_sequences\n",
        "from keras import Sequential\n",
        "from keras.layers import Dense,Embedding,Flatten, LSTM, GlobalAveragePooling1D\n",
        "import pandas as pd\n",
        "import numpy as np"
      ]
    },
    {
      "cell_type": "markdown",
      "metadata": {
        "id": "TvfG0OQ5YDWv"
      },
      "source": [
        "Unzipping the file"
      ]
    },
    {
      "cell_type": "code",
      "execution_count": 5,
      "metadata": {
        "id": "Ix6OHxoPYCw2"
      },
      "outputs": [],
      "source": [
        "import zipfile\n",
        "zip_ref = zipfile.ZipFile('/content/imdb-dataset-of-50k-movie-reviews.zip')\n",
        "zip_ref.extractall('/content')\n",
        "zip_ref.close()"
      ]
    },
    {
      "cell_type": "code",
      "execution_count": 6,
      "metadata": {
        "colab": {
          "base_uri": "https://localhost:8080/",
          "height": 206
        },
        "id": "4FN6krnWX7b7",
        "outputId": "58510d67-a228-4b16-f31e-8c1d4780bc98"
      },
      "outputs": [
        {
          "data": {
            "text/html": [
              "\n",
              "  <div id=\"df-8de6e920-bcfd-42e5-8a22-7a741f661b5d\" class=\"colab-df-container\">\n",
              "    <div>\n",
              "<style scoped>\n",
              "    .dataframe tbody tr th:only-of-type {\n",
              "        vertical-align: middle;\n",
              "    }\n",
              "\n",
              "    .dataframe tbody tr th {\n",
              "        vertical-align: top;\n",
              "    }\n",
              "\n",
              "    .dataframe thead th {\n",
              "        text-align: right;\n",
              "    }\n",
              "</style>\n",
              "<table border=\"1\" class=\"dataframe\">\n",
              "  <thead>\n",
              "    <tr style=\"text-align: right;\">\n",
              "      <th></th>\n",
              "      <th>review</th>\n",
              "      <th>sentiment</th>\n",
              "    </tr>\n",
              "  </thead>\n",
              "  <tbody>\n",
              "    <tr>\n",
              "      <th>0</th>\n",
              "      <td>One of the other reviewers has mentioned that ...</td>\n",
              "      <td>positive</td>\n",
              "    </tr>\n",
              "    <tr>\n",
              "      <th>1</th>\n",
              "      <td>A wonderful little production. &lt;br /&gt;&lt;br /&gt;The...</td>\n",
              "      <td>positive</td>\n",
              "    </tr>\n",
              "    <tr>\n",
              "      <th>2</th>\n",
              "      <td>I thought this was a wonderful way to spend ti...</td>\n",
              "      <td>positive</td>\n",
              "    </tr>\n",
              "    <tr>\n",
              "      <th>3</th>\n",
              "      <td>Basically there's a family where a little boy ...</td>\n",
              "      <td>negative</td>\n",
              "    </tr>\n",
              "    <tr>\n",
              "      <th>4</th>\n",
              "      <td>Petter Mattei's \"Love in the Time of Money\" is...</td>\n",
              "      <td>positive</td>\n",
              "    </tr>\n",
              "  </tbody>\n",
              "</table>\n",
              "</div>\n",
              "    <div class=\"colab-df-buttons\">\n",
              "\n",
              "  <div class=\"colab-df-container\">\n",
              "    <button class=\"colab-df-convert\" onclick=\"convertToInteractive('df-8de6e920-bcfd-42e5-8a22-7a741f661b5d')\"\n",
              "            title=\"Convert this dataframe to an interactive table.\"\n",
              "            style=\"display:none;\">\n",
              "\n",
              "  <svg xmlns=\"http://www.w3.org/2000/svg\" height=\"24px\" viewBox=\"0 -960 960 960\">\n",
              "    <path d=\"M120-120v-720h720v720H120Zm60-500h600v-160H180v160Zm220 220h160v-160H400v160Zm0 220h160v-160H400v160ZM180-400h160v-160H180v160Zm440 0h160v-160H620v160ZM180-180h160v-160H180v160Zm440 0h160v-160H620v160Z\"/>\n",
              "  </svg>\n",
              "    </button>\n",
              "\n",
              "  <style>\n",
              "    .colab-df-container {\n",
              "      display:flex;\n",
              "      gap: 12px;\n",
              "    }\n",
              "\n",
              "    .colab-df-convert {\n",
              "      background-color: #E8F0FE;\n",
              "      border: none;\n",
              "      border-radius: 50%;\n",
              "      cursor: pointer;\n",
              "      display: none;\n",
              "      fill: #1967D2;\n",
              "      height: 32px;\n",
              "      padding: 0 0 0 0;\n",
              "      width: 32px;\n",
              "    }\n",
              "\n",
              "    .colab-df-convert:hover {\n",
              "      background-color: #E2EBFA;\n",
              "      box-shadow: 0px 1px 2px rgba(60, 64, 67, 0.3), 0px 1px 3px 1px rgba(60, 64, 67, 0.15);\n",
              "      fill: #174EA6;\n",
              "    }\n",
              "\n",
              "    .colab-df-buttons div {\n",
              "      margin-bottom: 4px;\n",
              "    }\n",
              "\n",
              "    [theme=dark] .colab-df-convert {\n",
              "      background-color: #3B4455;\n",
              "      fill: #D2E3FC;\n",
              "    }\n",
              "\n",
              "    [theme=dark] .colab-df-convert:hover {\n",
              "      background-color: #434B5C;\n",
              "      box-shadow: 0px 1px 3px 1px rgba(0, 0, 0, 0.15);\n",
              "      filter: drop-shadow(0px 1px 2px rgba(0, 0, 0, 0.3));\n",
              "      fill: #FFFFFF;\n",
              "    }\n",
              "  </style>\n",
              "\n",
              "    <script>\n",
              "      const buttonEl =\n",
              "        document.querySelector('#df-8de6e920-bcfd-42e5-8a22-7a741f661b5d button.colab-df-convert');\n",
              "      buttonEl.style.display =\n",
              "        google.colab.kernel.accessAllowed ? 'block' : 'none';\n",
              "\n",
              "      async function convertToInteractive(key) {\n",
              "        const element = document.querySelector('#df-8de6e920-bcfd-42e5-8a22-7a741f661b5d');\n",
              "        const dataTable =\n",
              "          await google.colab.kernel.invokeFunction('convertToInteractive',\n",
              "                                                    [key], {});\n",
              "        if (!dataTable) return;\n",
              "\n",
              "        const docLinkHtml = 'Like what you see? Visit the ' +\n",
              "          '<a target=\"_blank\" href=https://colab.research.google.com/notebooks/data_table.ipynb>data table notebook</a>'\n",
              "          + ' to learn more about interactive tables.';\n",
              "        element.innerHTML = '';\n",
              "        dataTable['output_type'] = 'display_data';\n",
              "        await google.colab.output.renderOutput(dataTable, element);\n",
              "        const docLink = document.createElement('div');\n",
              "        docLink.innerHTML = docLinkHtml;\n",
              "        element.appendChild(docLink);\n",
              "      }\n",
              "    </script>\n",
              "  </div>\n",
              "\n",
              "\n",
              "<div id=\"df-0b5c2109-512d-4766-b27f-f66fcf571a87\">\n",
              "  <button class=\"colab-df-quickchart\" onclick=\"quickchart('df-0b5c2109-512d-4766-b27f-f66fcf571a87')\"\n",
              "            title=\"Suggest charts\"\n",
              "            style=\"display:none;\">\n",
              "\n",
              "<svg xmlns=\"http://www.w3.org/2000/svg\" height=\"24px\"viewBox=\"0 0 24 24\"\n",
              "     width=\"24px\">\n",
              "    <g>\n",
              "        <path d=\"M19 3H5c-1.1 0-2 .9-2 2v14c0 1.1.9 2 2 2h14c1.1 0 2-.9 2-2V5c0-1.1-.9-2-2-2zM9 17H7v-7h2v7zm4 0h-2V7h2v10zm4 0h-2v-4h2v4z\"/>\n",
              "    </g>\n",
              "</svg>\n",
              "  </button>\n",
              "\n",
              "<style>\n",
              "  .colab-df-quickchart {\n",
              "      --bg-color: #E8F0FE;\n",
              "      --fill-color: #1967D2;\n",
              "      --hover-bg-color: #E2EBFA;\n",
              "      --hover-fill-color: #174EA6;\n",
              "      --disabled-fill-color: #AAA;\n",
              "      --disabled-bg-color: #DDD;\n",
              "  }\n",
              "\n",
              "  [theme=dark] .colab-df-quickchart {\n",
              "      --bg-color: #3B4455;\n",
              "      --fill-color: #D2E3FC;\n",
              "      --hover-bg-color: #434B5C;\n",
              "      --hover-fill-color: #FFFFFF;\n",
              "      --disabled-bg-color: #3B4455;\n",
              "      --disabled-fill-color: #666;\n",
              "  }\n",
              "\n",
              "  .colab-df-quickchart {\n",
              "    background-color: var(--bg-color);\n",
              "    border: none;\n",
              "    border-radius: 50%;\n",
              "    cursor: pointer;\n",
              "    display: none;\n",
              "    fill: var(--fill-color);\n",
              "    height: 32px;\n",
              "    padding: 0;\n",
              "    width: 32px;\n",
              "  }\n",
              "\n",
              "  .colab-df-quickchart:hover {\n",
              "    background-color: var(--hover-bg-color);\n",
              "    box-shadow: 0 1px 2px rgba(60, 64, 67, 0.3), 0 1px 3px 1px rgba(60, 64, 67, 0.15);\n",
              "    fill: var(--button-hover-fill-color);\n",
              "  }\n",
              "\n",
              "  .colab-df-quickchart-complete:disabled,\n",
              "  .colab-df-quickchart-complete:disabled:hover {\n",
              "    background-color: var(--disabled-bg-color);\n",
              "    fill: var(--disabled-fill-color);\n",
              "    box-shadow: none;\n",
              "  }\n",
              "\n",
              "  .colab-df-spinner {\n",
              "    border: 2px solid var(--fill-color);\n",
              "    border-color: transparent;\n",
              "    border-bottom-color: var(--fill-color);\n",
              "    animation:\n",
              "      spin 1s steps(1) infinite;\n",
              "  }\n",
              "\n",
              "  @keyframes spin {\n",
              "    0% {\n",
              "      border-color: transparent;\n",
              "      border-bottom-color: var(--fill-color);\n",
              "      border-left-color: var(--fill-color);\n",
              "    }\n",
              "    20% {\n",
              "      border-color: transparent;\n",
              "      border-left-color: var(--fill-color);\n",
              "      border-top-color: var(--fill-color);\n",
              "    }\n",
              "    30% {\n",
              "      border-color: transparent;\n",
              "      border-left-color: var(--fill-color);\n",
              "      border-top-color: var(--fill-color);\n",
              "      border-right-color: var(--fill-color);\n",
              "    }\n",
              "    40% {\n",
              "      border-color: transparent;\n",
              "      border-right-color: var(--fill-color);\n",
              "      border-top-color: var(--fill-color);\n",
              "    }\n",
              "    60% {\n",
              "      border-color: transparent;\n",
              "      border-right-color: var(--fill-color);\n",
              "    }\n",
              "    80% {\n",
              "      border-color: transparent;\n",
              "      border-right-color: var(--fill-color);\n",
              "      border-bottom-color: var(--fill-color);\n",
              "    }\n",
              "    90% {\n",
              "      border-color: transparent;\n",
              "      border-bottom-color: var(--fill-color);\n",
              "    }\n",
              "  }\n",
              "</style>\n",
              "\n",
              "  <script>\n",
              "    async function quickchart(key) {\n",
              "      const quickchartButtonEl =\n",
              "        document.querySelector('#' + key + ' button');\n",
              "      quickchartButtonEl.disabled = true;  // To prevent multiple clicks.\n",
              "      quickchartButtonEl.classList.add('colab-df-spinner');\n",
              "      try {\n",
              "        const charts = await google.colab.kernel.invokeFunction(\n",
              "            'suggestCharts', [key], {});\n",
              "      } catch (error) {\n",
              "        console.error('Error during call to suggestCharts:', error);\n",
              "      }\n",
              "      quickchartButtonEl.classList.remove('colab-df-spinner');\n",
              "      quickchartButtonEl.classList.add('colab-df-quickchart-complete');\n",
              "    }\n",
              "    (() => {\n",
              "      let quickchartButtonEl =\n",
              "        document.querySelector('#df-0b5c2109-512d-4766-b27f-f66fcf571a87 button');\n",
              "      quickchartButtonEl.style.display =\n",
              "        google.colab.kernel.accessAllowed ? 'block' : 'none';\n",
              "    })();\n",
              "  </script>\n",
              "</div>\n",
              "    </div>\n",
              "  </div>\n"
            ],
            "text/plain": [
              "                                              review sentiment\n",
              "0  One of the other reviewers has mentioned that ...  positive\n",
              "1  A wonderful little production. <br /><br />The...  positive\n",
              "2  I thought this was a wonderful way to spend ti...  positive\n",
              "3  Basically there's a family where a little boy ...  negative\n",
              "4  Petter Mattei's \"Love in the Time of Money\" is...  positive"
            ]
          },
          "execution_count": 6,
          "metadata": {},
          "output_type": "execute_result"
        }
      ],
      "source": [
        "df = pd.read_csv(\"/content/IMDB Dataset.csv\")\n",
        "df.head()"
      ]
    },
    {
      "cell_type": "code",
      "execution_count": 7,
      "metadata": {
        "colab": {
          "base_uri": "https://localhost:8080/"
        },
        "id": "caVKMUBHZbwL",
        "outputId": "112c4789-71d1-4d71-ce5f-49248fd75e69"
      },
      "outputs": [
        {
          "data": {
            "text/plain": [
              "review       0\n",
              "sentiment    0\n",
              "dtype: int64"
            ]
          },
          "execution_count": 7,
          "metadata": {},
          "output_type": "execute_result"
        }
      ],
      "source": [
        "df.isnull().sum()"
      ]
    },
    {
      "cell_type": "code",
      "execution_count": 8,
      "metadata": {
        "colab": {
          "base_uri": "https://localhost:8080/"
        },
        "id": "E4FfzxLcZhIs",
        "outputId": "6015099b-b6c1-42b7-911e-31e8172a97bb"
      },
      "outputs": [
        {
          "name": "stdout",
          "output_type": "stream",
          "text": [
            "<class 'pandas.core.frame.DataFrame'>\n",
            "RangeIndex: 50000 entries, 0 to 49999\n",
            "Data columns (total 2 columns):\n",
            " #   Column     Non-Null Count  Dtype \n",
            "---  ------     --------------  ----- \n",
            " 0   review     50000 non-null  object\n",
            " 1   sentiment  50000 non-null  object\n",
            "dtypes: object(2)\n",
            "memory usage: 781.4+ KB\n"
          ]
        }
      ],
      "source": [
        "df.info()"
      ]
    },
    {
      "cell_type": "code",
      "execution_count": 9,
      "metadata": {
        "colab": {
          "base_uri": "https://localhost:8080/",
          "height": 467
        },
        "id": "PKAso7h1FPh3",
        "outputId": "0f825d4d-f110-4cb3-b98b-e600a8cad5c6"
      },
      "outputs": [
        {
          "data": {
            "text/plain": [
              "<Axes: xlabel='sentiment', ylabel='count'>"
            ]
          },
          "execution_count": 9,
          "metadata": {},
          "output_type": "execute_result"
        },
        {
          "data": {
            "image/png": "[encoded data removed]",
            "text/plain": [
              "<Figure size 640x480 with 1 Axes>"
            ]
          },
          "metadata": {},
          "output_type": "display_data"
        }
      ],
      "source": [
        "import seaborn as sns\n",
        "sns.countplot(data=df, x= 'sentiment' )"
      ]
    },
    {
      "cell_type": "code",
      "execution_count": 10,
      "metadata": {
        "id": "g54hGsP_pm5Q"
      },
      "outputs": [],
      "source": [
        "df['sentiment'] = df['sentiment'].map({'positive': 1, 'negative': 0})"
      ]
    },
    {
      "cell_type": "code",
      "execution_count": 11,
      "metadata": {
        "id": "Wj39vE5NrN5D"
      },
      "outputs": [],
      "source": [
        "X=df['review']\n",
        "Y=df['sentiment']"
      ]
    },
    {
      "cell_type": "markdown",
      "metadata": {
        "id": "l_kpvl4q8hlR"
      },
      "source": [
        "spliting data into train and test data"
      ]
    },
    {
      "cell_type": "code",
      "execution_count": 12,
      "metadata": {
        "id": "JqqFajSmrHn_"
      },
      "outputs": [],
      "source": [
        "from sklearn.model_selection import train_test_split\n",
        "\n",
        "X_train,X_test,y_train,y_test=train_test_split(X,Y,test_size=0.20,random_state=30)"
      ]
    },
    {
      "cell_type": "markdown",
      "metadata": {
        "id": "yH9ccwwa9gAI"
      },
      "source": [
        "# Tokenize the train data"
      ]
    },
    {
      "cell_type": "code",
      "execution_count": 13,
      "metadata": {
        "id": "n-pEw9_SfMAf"
      },
      "outputs": [],
      "source": [
        "tokenizer = Tokenizer()\n",
        "tokenizer.fit_on_texts(X_train)"
      ]
    },
    {
      "cell_type": "code",
      "execution_count": 14,
      "metadata": {
        "colab": {
          "base_uri": "https://localhost:8080/"
        },
        "id": "V7rLJyjRlO89",
        "outputId": "b35d4dd7-fe9c-41bb-93b2-ac242c7a7f02"
      },
      "outputs": [
        {
          "data": {
            "text/plain": [
              "40000"
            ]
          },
          "execution_count": 14,
          "metadata": {},
          "output_type": "execute_result"
        }
      ],
      "source": [
        "tokenizer.document_count"
      ]
    },
    {
      "cell_type": "code",
      "execution_count": 15,
      "metadata": {
        "colab": {
          "base_uri": "https://localhost:8080/"
        },
        "id": "EV-zS9K7i0Jk",
        "outputId": "d6d49277-0e48-4b82-a908-50ee9a45e5a7"
      },
      "outputs": [
        {
          "data": {
            "text/plain": [
              "40000"
            ]
          },
          "execution_count": 15,
          "metadata": {},
          "output_type": "execute_result"
        }
      ],
      "source": [
        "X_train_sequences = tokenizer.texts_to_sequences(X_train)\n",
        "len(X_train_sequences)"
      ]
    },
    {
      "cell_type": "code",
      "execution_count": 16,
      "metadata": {
        "colab": {
          "base_uri": "https://localhost:8080/"
        },
        "id": "gtyMdcYGXJnM",
        "outputId": "4ab5d41b-ba2c-4fe2-971b-4e20cb51ed2d"
      },
      "outputs": [
        {
          "data": {
            "text/plain": [
              "(40000,)"
            ]
          },
          "execution_count": 16,
          "metadata": {},
          "output_type": "execute_result"
        }
      ],
      "source": [
        "y_train.shape"
      ]
    },
    {
      "cell_type": "markdown",
      "metadata": {
        "id": "YCccpgQI-OSY"
      },
      "source": [
        "# Tokenize the test data"
      ]
    },
    {
      "cell_type": "code",
      "execution_count": 17,
      "metadata": {
        "colab": {
          "base_uri": "https://localhost:8080/"
        },
        "id": "yRr_hRS0sfLd",
        "outputId": "61028233-abcb-4f8d-f9d7-6e147e0ea520"
      },
      "outputs": [
        {
          "data": {
            "text/plain": [
              "10000"
            ]
          },
          "execution_count": 17,
          "metadata": {},
          "output_type": "execute_result"
        }
      ],
      "source": [
        "#tokenizer.fit_on_texts(X_test)\n",
        "X_test_sequences = tokenizer.texts_to_sequences(X_test)\n",
        "len(X_test_sequences)"
      ]
    },
    {
      "cell_type": "code",
      "execution_count": 18,
      "metadata": {
        "id": "qcfcVsn5ZSWs"
      },
      "outputs": [],
      "source": [
        "from keras.utils import pad_sequences\n",
        "X_train = pad_sequences(X_train_sequences,padding='post',maxlen=100)\n",
        "X_test = pad_sequences(X_test_sequences,padding='post',maxlen=100)"
      ]
    },
    {
      "cell_type": "markdown",
      "metadata": {
        "id": "LNo6K1l2_DWF"
      },
      "source": [
        "Using LSTM with Sequential Model"
      ]
    },
    {
      "cell_type": "code",
      "execution_count": 19,
      "metadata": {
        "colab": {
          "base_uri": "https://localhost:8080/"
        },
        "id": "67WF3Ol-s95a",
        "outputId": "6bf23c26-4858-4878-817c-a129b879509e"
      },
      "outputs": [
        {
          "name": "stdout",
          "output_type": "stream",
          "text": [
            "Model: \"sequential\"\n",
            "_________________________________________________________________\n",
            " Layer (type)                Output Shape              Param #   \n",
            "=================================================================\n",
            " embedding (Embedding)       (None, 100, 1)            10000     \n",
            "                                                                 \n",
            " lstm (LSTM)                 (None, 32)                4352      \n",
            "                                                                 \n",
            " dense (Dense)               (None, 1)                 33        \n",
            "                                                                 \n",
            "=================================================================\n",
            "Total params: 14385 (56.19 KB)\n",
            "Trainable params: 14385 (56.19 KB)\n",
            "Non-trainable params: 0 (0.00 Byte)\n",
            "_________________________________________________________________\n"
          ]
        }
      ],
      "source": [
        "model = Sequential()\n",
        "model.add(Embedding(10000,output_dim=1,input_length=100))\n",
        "model.add(LSTM(32,return_sequences=False))\n",
        "model.add(Dense(1, activation='sigmoid'))\n",
        "\n",
        "model.summary()"
      ]
    },
    {
      "cell_type": "code",
      "execution_count": 20,
      "metadata": {
        "colab": {
          "base_uri": "https://localhost:8080/"
        },
        "id": "DFsLx6NVtNpb",
        "outputId": "53f490b3-c930-4725-d29f-4455a2e7e86c"
      },
      "outputs": [
        {
          "name": "stdout",
          "output_type": "stream",
          "text": [
            "Epoch 1/5\n",
            "1250/1250 [==============================] - 48s 34ms/step - loss: 0.4323 - acc: 0.7865 - val_loss: 0.3439 - val_acc: 0.8523\n",
            "Epoch 2/5\n",
            "1250/1250 [==============================] - 12s 10ms/step - loss: 0.2875 - acc: 0.8820 - val_loss: 0.3191 - val_acc: 0.8641\n",
            "Epoch 3/5\n",
            "1250/1250 [==============================] - 13s 10ms/step - loss: 0.2496 - acc: 0.9014 - val_loss: 0.3263 - val_acc: 0.8631\n",
            "Epoch 4/5\n",
            "1250/1250 [==============================] - 11s 9ms/step - loss: 0.2284 - acc: 0.9097 - val_loss: 0.3579 - val_acc: 0.8588\n",
            "Epoch 5/5\n",
            "1250/1250 [==============================] - 11s 9ms/step - loss: 0.2158 - acc: 0.9167 - val_loss: 0.4139 - val_acc: 0.8507\n"
          ]
        }
      ],
      "source": [
        "model.compile(optimizer='adam', loss='binary_crossentropy', metrics=['acc'])\n",
        "history = model.fit(X_train, y_train, validation_data=(X_test,y_test), epochs=5)"
      ]
    },
    {
      "cell_type": "code",
      "execution_count": 21,
      "metadata": {
        "colab": {
          "base_uri": "https://localhost:8080/"
        },
        "id": "7soFbEots901",
        "outputId": "cae4f7cc-e65b-4886-b1cb-2c0374f5cdc6"
      },
      "outputs": [
        {
          "name": "stdout",
          "output_type": "stream",
          "text": [
            "313/313 [==============================] - 1s 5ms/step - loss: 0.4139 - acc: 0.8507\n",
            "Loss: 0.4139488637447357\n",
            "Accuracy: 0.8507000207901001\n"
          ]
        }
      ],
      "source": [
        "model_accuracy = model.evaluate(X_test,y_test)\n",
        "print(f\"Loss: {model_accuracy[0]}\")\n",
        "print(f\"Accuracy: {model_accuracy[1]}\")\n"
      ]
    },
    {
      "cell_type": "markdown",
      "metadata": {
        "id": "MrOmlNk4_Psf"
      },
      "source": [
        "I got accuracy 85% using LSTM model"
      ]
    },
    {
      "cell_type": "markdown",
      "metadata": {
        "id": "3FP-4_bM_Yjt"
      },
      "source": [
        "Saving Model"
      ]
    },
    {
      "cell_type": "code",
      "execution_count": 22,
      "metadata": {
        "colab": {
          "base_uri": "https://localhost:8080/"
        },
        "id": "-5ZwxSuwuwlM",
        "outputId": "3642c47c-19de-43cc-e079-869c28b63250"
      },
      "outputs": [
        {
          "name": "stderr",
          "output_type": "stream",
          "text": [
            "<ipython-input-22-4ee49fe00f2e>:2: UserWarning: You are saving your model as an HDF5 file via `model.save()`. This file format is considered legacy. We recommend using instead the native Keras format, e.g. `model.save('my_model.keras')`.\n",
            "  tf.keras.models.save_model(model,'LSTM_model_imdb.h5')\n"
          ]
        }
      ],
      "source": [
        "import tensorflow as tf\n",
        "tf.keras.models.save_model(model,'LSTM_model_imdb.h5')"
      ]
    },
    {
      "cell_type": "markdown",
      "metadata": {
        "id": "dgV7hihK4lkO"
      },
      "source": [
        "function for plot"
      ]
    },
    {
      "cell_type": "code",
      "execution_count": 23,
      "metadata": {
        "id": "bDj3-FuC30fR"
      },
      "outputs": [],
      "source": [
        "import matplotlib.pyplot as plt\n",
        "def plot(history):\n",
        "  acc = history.history['acc']\n",
        "  val_acc = history.history['val_acc']\n",
        "  loss = history.history['loss']\n",
        "  val_loss = history.history['val_loss']\n",
        "  plt.plot(acc,'b',label='Training acc')\n",
        "  plt.plot(val_acc,'r', label='Validation acc')\n",
        "  plt.title('Training and Validation accuracy')\n",
        "  plt.legend()\n",
        "  plt.figure()\n",
        "  plt.plot(loss, 'b', label='Training loss')\n",
        "  plt.plot(val_loss, 'r', label='Validation loss')\n",
        "  plt.title('Training and Validation loss')\n",
        "  plt.legend()\n",
        "  plt.show()"
      ]
    },
    {
      "cell_type": "code",
      "execution_count": 24,
      "metadata": {
        "colab": {
          "base_uri": "https://localhost:8080/",
          "height": 887
        },
        "id": "qukcMiHf3-BI",
        "outputId": "f2a6845b-52f1-44cf-d577-5a6c999880ca"
      },
      "outputs": [
        {
          "data": {
            "image/png": "[encoded data removed]",
            "text/plain": [
              "<Figure size 640x480 with 1 Axes>"
            ]
          },
          "metadata": {},
          "output_type": "display_data"
        },
        {
          "data": {
            "image/png": "[encoded data removed]",
            "text/plain": [
              "<Figure size 640x480 with 1 Axes>"
            ]
          },
          "metadata": {},
          "output_type": "display_data"
        }
      ],
      "source": [
        "plot(history)"
      ]
    },
    {
      "cell_type": "markdown",
      "metadata": {
        "id": "twzPuJAtvDb0"
      },
      "source": [
        "Build model without LSTM"
      ]
    },
    {
      "cell_type": "code",
      "execution_count": 40,
      "metadata": {
        "id": "RNyeIli0nKav"
      },
      "outputs": [],
      "source": [
        "model_1=Sequential([\n",
        "    Embedding(10000, 32, input_length=100),\n",
        "    GlobalAveragePooling1D(),\n",
        "    Dense(16, activation = 'relu'),\n",
        "    Dense(1, activation='sigmoid')\n",
        "])"
      ]
    },
    {
      "cell_type": "code",
      "execution_count": 41,
      "metadata": {
        "colab": {
          "base_uri": "https://localhost:8080/"
        },
        "id": "tCQ1UDt8vXzg",
        "outputId": "89bdf4e9-3cdb-4572-b563-15fb831bee9d"
      },
      "outputs": [
        {
          "name": "stdout",
          "output_type": "stream",
          "text": [
            "Model: \"sequential_1\"\n",
            "_________________________________________________________________\n",
            " Layer (type)                Output Shape              Param #   \n",
            "=================================================================\n",
            " embedding_1 (Embedding)     (None, 100, 32)           320000    \n",
            "                                                                 \n",
            " global_average_pooling1d (  (None, 32)                0         \n",
            " GlobalAveragePooling1D)                                         \n",
            "                                                                 \n",
            " dense_1 (Dense)             (None, 16)                528       \n",
            "                                                                 \n",
            " dense_2 (Dense)             (None, 1)                 17        \n",
            "                                                                 \n",
            "=================================================================\n",
            "Total params: 320545 (1.22 MB)\n",
            "Trainable params: 320545 (1.22 MB)\n",
            "Non-trainable params: 0 (0.00 Byte)\n",
            "_________________________________________________________________\n"
          ]
        }
      ],
      "source": [
        "model_1.compile(loss='binary_crossentropy',optimizer='adam',metrics=['acc'])\n",
        "model_1.summary()"
      ]
    },
    {
      "cell_type": "code",
      "execution_count": 42,
      "metadata": {
        "colab": {
          "base_uri": "https://localhost:8080/"
        },
        "id": "AJV0zBLavfUM",
        "outputId": "ec4b2b2b-3d37-414b-8cff-789e62892cdc"
      },
      "outputs": [
        {
          "name": "stdout",
          "output_type": "stream",
          "text": [
            "Epoch 1/5\n",
            "1250/1250 [==============================] - 45s 35ms/step - loss: 0.4247 - acc: 0.8104 - val_loss: 0.3208 - val_acc: 0.8606\n",
            "Epoch 2/5\n",
            "1250/1250 [==============================] - 11s 8ms/step - loss: 0.2746 - acc: 0.8858 - val_loss: 0.3194 - val_acc: 0.8627\n",
            "Epoch 3/5\n",
            "1250/1250 [==============================] - 9s 8ms/step - loss: 0.2417 - acc: 0.9011 - val_loss: 0.3367 - val_acc: 0.8604\n",
            "Epoch 4/5\n",
            "1250/1250 [==============================] - 6s 5ms/step - loss: 0.2222 - acc: 0.9122 - val_loss: 0.3537 - val_acc: 0.8580\n",
            "Epoch 5/5\n",
            "1250/1250 [==============================] - 8s 6ms/step - loss: 0.2080 - acc: 0.9183 - val_loss: 0.3798 - val_acc: 0.8541\n"
          ]
        }
      ],
      "source": [
        "history_1 = model_1.fit(X_train,y_train,validation_data=(X_test,y_test),epochs=5)"
      ]
    },
    {
      "cell_type": "code",
      "execution_count": 44,
      "metadata": {
        "colab": {
          "base_uri": "https://localhost:8080/"
        },
        "id": "CBc4vuQIxArb",
        "outputId": "2d0aecf1-b9f6-4c93-d5ca-6b7587fa61ea"
      },
      "outputs": [
        {
          "name": "stdout",
          "output_type": "stream",
          "text": [
            "313/313 [==============================] - 1s 2ms/step - loss: 0.3798 - acc: 0.8541\n",
            "Loss: 0.3788493871688843\n",
            "Accuracy: 0.854200005531311\n"
          ]
        }
      ],
      "source": [
        "model_1.evaluate(X_test,y_test)\n",
        "print(f\"Loss: {model_accuracy[0]}\")\n",
        "print(f\"Accuracy: {model_accuracy[1]}\")"
      ]
    },
    {
      "cell_type": "markdown",
      "metadata": {
        "id": "z6KWajWF_mwY"
      },
      "source": [
        "I got accuracy 85%"
      ]
    },
    {
      "cell_type": "code",
      "execution_count": 81,
      "metadata": {
        "colab": {
          "base_uri": "https://localhost:8080/",
          "height": 887
        },
        "id": "ugIC7sAd4Vq0",
        "outputId": "13716c2f-fa6d-4e85-f74f-b357a96d9080"
      },
      "outputs": [
        {
          "data": {
            "image/png": "[encoded data removed]",
            "text/plain": [
              "<Figure size 640x480 with 1 Axes>"
            ]
          },
          "metadata": {},
          "output_type": "display_data"
        },
        {
          "data": {
            "image/png": "[encoded data removed]",
            "text/plain": [
              "<Figure size 640x480 with 1 Axes>"
            ]
          },
          "metadata": {},
          "output_type": "display_data"
        }
      ],
      "source": [
        "plot(history_1)"
      ]
    },
    {
      "cell_type": "markdown",
      "metadata": {
        "id": "6TKyBLuiGM5W"
      },
      "source": [
        "Prediction on test data"
      ]
    },
    {
      "cell_type": "code",
      "execution_count": 25,
      "metadata": {
        "colab": {
          "base_uri": "https://localhost:8080/"
        },
        "id": "CloWp-efE841",
        "outputId": "18acd589-d489-4050-b1f1-b8ea547a9d2c"
      },
      "outputs": [
        {
          "name": "stdout",
          "output_type": "stream",
          "text": [
            "313/313 [==============================] - 1s 3ms/step\n",
            "Sentiment Analysis: Positive\n",
            "==============================\n",
            "Sentiment Analysis: Positive\n",
            "==============================\n",
            "Sentiment Analysis: Positive\n",
            "==============================\n",
            "Sentiment Analysis: Negative\n",
            "==============================\n",
            "Sentiment Analysis: Negative\n",
            "==============================\n",
            "Sentiment Analysis: Negative\n",
            "==============================\n",
            "Sentiment Analysis: Negative\n",
            "==============================\n",
            "Sentiment Analysis: Positive\n",
            "==============================\n",
            "Sentiment Analysis: Negative\n",
            "==============================\n",
            "Sentiment Analysis: Positive\n",
            "==============================\n"
          ]
        }
      ],
      "source": [
        "predictions = model.predict(X_test)*100\n",
        "for i in range(0,10):\n",
        "  if predictions[i] >50:\n",
        "    print(\"Sentiment Analysis: Positive\")\n",
        "    print(\"==============================\")\n",
        "  else:\n",
        "   print(\"Sentiment Analysis: Negative\")\n",
        "   print(\"==============================\")"
      ]
    },
    {
      "cell_type": "markdown",
      "metadata": {
        "id": "zhiQExLnHwiz"
      },
      "source": [
        "Prediction on new review"
      ]
    },
    {
      "cell_type": "code",
      "execution_count": 32,
      "metadata": {
        "colab": {
          "base_uri": "https://localhost:8080/"
        },
        "id": "8XKqjLqsIZkc",
        "outputId": "71cd3bf9-d496-431d-e728-947e4bc67987"
      },
      "outputs": [
        {
          "name": "stdout",
          "output_type": "stream",
          "text": [
            "1/1 [==============================] - 0s 28ms/step\n",
            "Review: this movie is wonderful and full of comedy. just fantastic. Story is uniqe and powerful. Acting is awesome.\n",
            "Sentiment Analysis: Positive\n",
            "==============================\n",
            "Review: This is worst movie, acting is very bad\n",
            "Sentiment Analysis: Negative\n",
            "==============================\n"
          ]
        }
      ],
      "source": [
        "sent=[\"this movie is wonderful and full of comedy. just fantastic. Story is uniqe and powerful. Acting is awesome.\",\"This is worst movie, acting is very bad\"]\n",
        "test_sequences = pad_sequences(tokenizer.texts_to_sequences(sent), maxlen=100)\n",
        "predictions = model.predict(test_sequences)*100\n",
        "for i in range(0,len(sent)):\n",
        "  if predictions[i] >50:\n",
        "    print(f\"Review: {sent[i]}\")\n",
        "    print(\"Sentiment Analysis: Positive\")\n",
        "    print(\"==============================\")\n",
        "  else:\n",
        "    print(f\"Review: {sent[i]}\")\n",
        "    print(\"Sentiment Analysis: Negative\")\n",
        "    print(\"==============================\")"
      ]
    }
  ],
  "metadata": {
    "accelerator": "GPU",
    "colab": {
      "gpuType": "T4",
      "provenance": []
    },
    "kernelspec": {
      "display_name": "Python 3",
      "name": "python3"
    },
    "language_info": {
      "name": "python",
      "version": "3.8.16"
    }
  },
  "nbformat": 4,
  "nbformat_minor": 0
}
